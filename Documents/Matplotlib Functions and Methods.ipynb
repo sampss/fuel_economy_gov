{
 "cells": [
  {
   "cell_type": "markdown",
   "metadata": {},
   "source": [
    "## Matplotlib Functions and Methods\n",
    "\n",
    "**Basic Plotting**\n",
    "- **plt.plot()**: Plots y versus x as lines and/or markers.\n",
    "- **plt.scatter()**: Plots a scatter plot of y vs. x.\n",
    "- **plt.bar()**: Creates a bar plot.\n",
    "- **plt.hist()**: Plots a histogram.\n",
    "- **plt.boxplot()**: Makes a box and whisker plot.\n",
    "- **plt.pie()**: Makes a pie chart.\n",
    "\n",
    "**Customization**\n",
    "- **plt.title()**: Sets the title of the plot.\n",
    "- **plt.xlabel()**: Sets the label for the x-axis.\n",
    "- **plt.ylabel()**: Sets the label for the y-axis.\n",
    "- **plt.legend()**: Adds a legend to the plot.\n",
    "- **plt.grid()**: Adds a grid to the plot.\n",
    "- **plt.xlim()**: Sets the limits of the x-axis.\n",
    "- **plt.ylim()**: Sets the limits of the y-axis.\n",
    "\n",
    "**Subplots**\n",
    "- **plt.subplot()**: Adds a subplot to the current figure.\n",
    "- **plt.subplots()**: Creates a figure and a set of subplots.\n",
    "- **plt.subplots_adjust()**: Adjusts the spacing between subplots.\n",
    "\n",
    "**Figures and Axes**\n",
    "- **plt.figure()**: Creates a new figure.\n",
    "- **fig.add_subplot()**: Adds a subplot to the figure.\n",
    "- **fig.savefig()**: Saves the figure to a file.\n",
    "- **fig.show()**: Displays the figure.\n",
    "\n",
    "**Annotations**\n",
    "- **plt.annotate()**: Annotates points on the plot.\n",
    "- **plt.text()**: Adds text at an arbitrary location.\n",
    "- **plt.arrow()**: Adds an arrow to the plot.\n",
    "- **plt.axvline()**: Adds a vertical line across the plot.\n",
    "- **plt.axhline()**: Adds a horizontal line across the plot.\n",
    "- **plt.axvspan()**: Adds a vertical span (rectangle) across the plot.\n",
    "- **plt.axhspan()**: Adds a horizontal span (rectangle) across the plot.\n",
    "\n",
    "**Color Maps and Styles**\n",
    "- **plt.set_cmap()**: Sets the colormap for the current image.\n",
    "- **plt.setp()**: Sets properties on artists.\n",
    "- **plt.style.use()**: Uses a predefined style.\n",
    "\n",
    "**3D Plotting**\n",
    "- **fig.add_subplot(projection='3d')**: Adds a 3D subplot to the figure.\n",
    "- **ax.plot_surface()**: Plots a 3D surface plot.\n",
    "- **ax.scatter()**: Plots 3D scatter plots.\n",
    "- **ax.plot_wireframe()**: Plots a 3D wireframe plot.\n",
    "\n",
    "Feel free to copy and paste this into your Jupyter Notebooks. Happy plotting!\n"
   ]
  }
 ],
 "metadata": {
  "language_info": {
   "name": "python"
  }
 },
 "nbformat": 4,
 "nbformat_minor": 2
}
