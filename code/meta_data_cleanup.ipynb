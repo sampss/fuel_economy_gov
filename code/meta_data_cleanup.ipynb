{
 "cells": [
  {
   "cell_type": "code",
   "execution_count": 2,
   "metadata": {},
   "outputs": [],
   "source": [
    "import pandas as pd\n",
    "import re # for regex functionality\n",
    "import matplotlib.pyplot as plt # Import for visuals\n",
    "from matplotlib.ticker import FuncFormatter\n",
    "import seaborn as sns\n",
    "\n",
    "# Set display options to prevent wrapping columns\n",
    "pd.set_option('display.max_colwidth', None) \n",
    "pd.set_option('display.width', None)"
   ]
  },
  {
   "cell_type": "code",
   "execution_count": 4,
   "metadata": {},
   "outputs": [],
   "source": [
    "# used to clean up data to determine needed columns\n",
    "\n",
    "with open('../data/vehicles_meta_data.txt', 'r') as file:\n",
    "    lines = file.readlines()\n",
    "\n",
    "data = [line.strip().split(' - ') for line in lines]\n",
    "\n",
    "df = pd.DataFrame(data, columns=['col_name','Description'])\n",
    "\n",
    "df.to_csv('../data/formatted_vehicles__meta_data.csv', index=False)\n",
    "df.to_excel('../data/formatted_vehicles__meta_data.xlsx', index=False)"
   ]
  }
 ],
 "metadata": {
  "kernelspec": {
   "display_name": "FE",
   "language": "python",
   "name": "python3"
  },
  "language_info": {
   "codemirror_mode": {
    "name": "ipython",
    "version": 3
   },
   "file_extension": ".py",
   "mimetype": "text/x-python",
   "name": "python",
   "nbconvert_exporter": "python",
   "pygments_lexer": "ipython3",
   "version": "3.13.0"
  }
 },
 "nbformat": 4,
 "nbformat_minor": 2
}
