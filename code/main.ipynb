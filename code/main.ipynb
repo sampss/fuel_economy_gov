{
 "cells": [
  {
   "cell_type": "code",
   "execution_count": null,
   "metadata": {},
   "outputs": [],
   "source": [
    "import pandas as pd\n",
    "import re # for regex functionality\n",
    "import matplotlib.pyplot as plt # Import for visuals\n",
    "from matplotlib.ticker import FuncFormatter\n",
    "import seaborn as sns\n",
    "\n",
    "# Set display options to prevent wrapping columns\n",
    "pd.set_option('display.max_colwidth', None) \n",
    "pd.set_option('display.width', None)"
   ]
  }
 ],
 "metadata": {
  "kernelspec": {
   "display_name": "FE",
   "language": "python",
   "name": "python3"
  },
  "language_info": {
   "name": "python",
   "version": "3.13.0"
  }
 },
 "nbformat": 4,
 "nbformat_minor": 2
}
