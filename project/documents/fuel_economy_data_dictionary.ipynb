{
 "cells": [
  {
   "cell_type": "markdown",
   "metadata": {},
   "source": [
    "# Gasoline and Electric Vehicle Fuel Assessment - Data Description (edited)\n",
    "\n",
    "| Field                      | Description                                                                      |\n",
    "|----------------------------|----------------------------------------------------------------------------------|\n",
    "| **est_petro_cons**         | annual petroleum consumption in barrels for fuelType1                            |\n",
    "| **charge_hours_240**       | time to charge an electric vehicle in hours at 240 V                             |\n",
    "| **co2**                    | tailpipe CO2 in grams/mile for fuelType1                                         |\n",
    "| **comb_MPG_MPGe**          | combined MPG for fuelType1                                                       |\n",
    "| **comb_kWh_100miles**      | combined electricity consumption in kw-hrs/100 miles                             |\n",
    "| **cylinders**              | engine cylinders                                                                 |\n",
    "| **displ**                  | engine displacement in liters                                                    |\n",
    "| **drive**                  | drive axle type                                                                  |\n",
    "| **epa_FuelEcon_score**     | EPA Fuel Economy Score (-1 = Not available)                                      |\n",
    "| **est_ann_fuel_cost**      | annual fuel cost for fuelType1 ($)                                               |\n",
    "| **fuel_type**              | primary fuel type for single or conventional fuel vehicles                       |\n",
    "| **greenhouseGas_Score**    | EPA GHG score (-1 = Not available)                                               |\n",
    "| **id**                     | vehicle record ID                                                                |\n",
    "| **make**                   | manufacturer (division)                                                          |\n",
    "| **model**                  | model name (carline)                                                             |\n",
    "| **range**                  | estimated range for fuelType1                                                    |\n",
    "| **trany**                  | transmission                                                                     |\n",
    "| **VClass**                 | EPA vehicle size class                                                           |\n",
    "| **year**                   | model year                                                                       |\n",
    "| **5yr_SaveSpend**          | savings/spending over 5 years compared to an average car                         |\n",
    "| **base_Model**             | base model name                                                                  |\n",
    "| **base_fuel_type**         | type of alternative vehicle or fuel                                              |\n",
    "| **charger_descript_240**   | electric vehicle charger description                                             |\n",
    "| **year_make_model_key**    | semi-unique identifier combining year, make, and model of the vehicle            |\n",
    "| **avg_selling_price**      | average selling price of the vehicle across multiple sales                       |\n",
    "| **avg_odometer_reading**   | average odometer reading (miles) of the vehicle at the time of sale              |\n",
    "| **avg_condition**          | average condition score of the vehicle based on sale data                        |\n",
    "| **number_of_sales**        | total number of sales recorded for the vehicle                                   |\n",
    "| **dollars_to_work**        | estimated cost in dollars to drive to work (round trip of 20 miles)              |\n",
    "| **co2_to_work**            | estimated CO2 emissions in pounds for a round trip to work (20 miles)            |\n"
   ]
  }
 ],
 "metadata": {
  "language_info": {
   "name": "python"
  }
 },
 "nbformat": 4,
 "nbformat_minor": 2
}
