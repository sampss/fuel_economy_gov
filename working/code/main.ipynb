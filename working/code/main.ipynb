{
 "cells": [
  {
   "cell_type": "markdown",
   "metadata": {},
   "source": [
    "# Imports"
   ]
  },
  {
   "cell_type": "code",
   "execution_count": 1,
   "metadata": {},
   "outputs": [],
   "source": [
    "import pandas as pd\n",
    "import re # for regex functionality\n",
    "import matplotlib.pyplot as plt # Import for visuals\n",
    "from matplotlib.ticker import FuncFormatter\n",
    "import seaborn as sns\n",
    "\n",
    "# Set display options to prevent wrapping columns\n",
    "pd.set_option('display.max_colwidth', None) \n",
    "pd.set_option('display.width', None)"
   ]
  },
  {
   "cell_type": "markdown",
   "metadata": {},
   "source": [
    "### Read CSV file to data frame"
   ]
  },
  {
   "cell_type": "code",
   "execution_count": null,
   "metadata": {},
   "outputs": [],
   "source": [
    "vehicle_data = pd.read_csv('../data/vehicles.csv', dtype={74: str, 75: str, 77: str}) # make sure these specific columns contain string values as they were mixed value types."
   ]
  },
  {
   "cell_type": "markdown",
   "metadata": {},
   "source": [
    "### List which columns to keep"
   ]
  },
  {
   "cell_type": "code",
   "execution_count": null,
   "metadata": {},
   "outputs": [],
   "source": [
    "keep_columns = ['barrels08', 'charge240', 'cityE', 'co2', 'co2TailpipeGpm', 'comb08', 'combE','cylinders', 'displ', 'drive', 'engId', 'eng_dscr', 'feScore', 'fuelCost08', 'fuelType', 'fuelType1',  'ghgScore', 'id', \n",
    "           'make', 'model', 'mpgData', 'range', 'rangeCity', 'rangeHwy', 'trany', 'VClass', 'year', 'youSaveSpend', 'baseModel', 'trans_dscr', 'tCharger', 'sCharger', 'atvType', 'evMotor', 'mfrCode', \n",
    "           'c240Dscr', 'charge240b'] # 37 total columns to keep, possible usable data"
   ]
  },
  {
   "cell_type": "markdown",
   "metadata": {},
   "source": [
    "### List which fuel types to remove"
   ]
  },
  {
   "cell_type": "code",
   "execution_count": null,
   "metadata": {},
   "outputs": [],
   "source": [
    "remove_fuel_types = ['Diesel', 'CNG', 'Gasoline or natural gas', 'Gasoline or E85', 'Gasoline or propane' 'Premium or E85', 'Premium Gas or Electricity', 'Regular Gas and Electricity', \n",
    "                     'Premium and Electricity', 'Regular Gas or Electricity', 'Hydrogen', 'Gasoline or propane', 'Premium or E85'] # rows where cars use unwanted fuel types\n"
   ]
  },
  {
   "cell_type": "markdown",
   "metadata": {},
   "source": [
    "### Clean initial data"
   ]
  },
  {
   "cell_type": "code",
   "execution_count": null,
   "metadata": {},
   "outputs": [],
   "source": []
  }
 ],
 "metadata": {
  "kernelspec": {
   "display_name": "FE",
   "language": "python",
   "name": "python3"
  },
  "language_info": {
   "codemirror_mode": {
    "name": "ipython",
    "version": 3
   },
   "file_extension": ".py",
   "mimetype": "text/x-python",
   "name": "python",
   "nbconvert_exporter": "python",
   "pygments_lexer": "ipython3",
   "version": "3.13.0"
  }
 },
 "nbformat": 4,
 "nbformat_minor": 2
}
