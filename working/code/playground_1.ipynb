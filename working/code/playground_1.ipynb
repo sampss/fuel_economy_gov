{
 "cells": [
  {
   "cell_type": "markdown",
   "metadata": {},
   "source": [
    "# Imports\n"
   ]
  },
  {
   "cell_type": "code",
   "execution_count": 1,
   "metadata": {},
   "outputs": [],
   "source": [
    "import pandas as pd\n",
    "import re # for regex functionality\n",
    "import matplotlib.pyplot as plt # Import for visuals\n",
    "from matplotlib.ticker import FuncFormatter\n",
    "import seaborn as sns\n",
    "\n",
    "# Adjust display settings for better readability\n",
    "pd.set_option('display.max_columns', None)\n",
    "pd.set_option('display.expand_frame_repr', False)"
   ]
  },
  {
   "cell_type": "markdown",
   "metadata": {},
   "source": [
    "## Code Start"
   ]
  },
  {
   "cell_type": "code",
   "execution_count": 2,
   "metadata": {},
   "outputs": [
    {
     "name": "stdout",
     "output_type": "stream",
     "text": [
      "[nan 'Diesel' 'Hybrid' 'Bifuel (CNG)' 'CNG' 'FFV' 'EV' 'Bifuel (LPG)'\n",
      " 'Plug-in Hybrid' 'FCV']\n"
     ]
    }
   ],
   "source": [
    "fuel_econ = pd.read_csv('../data/vehicles.csv', dtype={74: str, 75: str, 77: str})#, low_memory=False)\n",
    "\n",
    "#print(fuel_econ.columns)\n",
    "print(fuel_econ['atvType'].unique()) # see all the unique fuel types we are working with.\n",
    "\n",
    "# nan appears to be regular,mid, premium indicating that gasoline appears as nan\n",
    "\n",
    "#fuel_type_check = fuel_econ[fuel_econ['model'].str.contains('sentra', case=False, na=False)]\n",
    "#print(fuel_type_check['atvType'].unique())\n",
    "\n",
    "# Also noted a datatype warning so I will need to verify what datatype to utilize for this column if kept.\n",
    "# Check the datatypes of the specified columns\n",
    "\n",
    "# Used to check dtypes to resolve warning regarding varying data types in three columns.\n",
    "#columns_to_check = [74, 75, 77]\n",
    "#datatypes = fuel_econ.iloc[:, columns_to_check].dtypes\n",
    "#print(datatypes)\n",
    "\n",
    "# chose to set datatype on columns to str on load to resolve warning.\n",
    "\n"
   ]
  },
  {
   "cell_type": "code",
   "execution_count": 3,
   "metadata": {},
   "outputs": [
    {
     "name": "stdout",
     "output_type": "stream",
     "text": [
      "Index(['barrels08', 'barrelsA08', 'charge120', 'charge240', 'city08',\n",
      "       'city08U', 'cityA08', 'cityA08U', 'cityCD', 'cityE', 'cityUF', 'co2',\n",
      "       'co2A', 'co2TailpipeAGpm', 'co2TailpipeGpm', 'comb08', 'comb08U',\n",
      "       'combA08', 'combA08U', 'combE', 'combinedCD', 'combinedUF', 'cylinders',\n",
      "       'displ', 'drive', 'engId', 'eng_dscr', 'feScore', 'fuelCost08',\n",
      "       'fuelCostA08', 'fuelType', 'fuelType1', 'ghgScore', 'ghgScoreA',\n",
      "       'highway08', 'highway08U', 'highwayA08', 'highwayA08U', 'highwayCD',\n",
      "       'highwayE', 'highwayUF', 'hlv', 'hpv', 'id', 'lv2', 'lv4', 'make',\n",
      "       'model', 'mpgData', 'phevBlended', 'pv2', 'pv4', 'range', 'rangeCity',\n",
      "       'rangeCityA', 'rangeHwy', 'rangeHwyA', 'trany', 'UCity', 'UCityA',\n",
      "       'UHighway', 'UHighwayA', 'VClass', 'year', 'youSaveSpend', 'baseModel',\n",
      "       'guzzler', 'trans_dscr', 'tCharger', 'sCharger', 'atvType', 'fuelType2',\n",
      "       'rangeA', 'evMotor', 'mfrCode', 'c240Dscr', 'charge240b', 'c240bDscr',\n",
      "       'createdOn', 'modifiedOn', 'startStop', 'phevCity', 'phevHwy',\n",
      "       'phevComb'],\n",
      "      dtype='object')\n",
      "(48351, 84)\n",
      "Columns that include 'base' in their name:\n",
      "['baseModel']\n",
      "Columns that include 'fuel' in their name:\n",
      "['fuelCost08', 'fuelCostA08', 'fuelType', 'fuelType1', 'fuelType2']\n"
     ]
    }
   ],
   "source": [
    "# created this code to find all columns with base in their name in order to solve a naming descrepency.  Needed to capitalize the M in baseModel\n",
    "\n",
    "# Read the CSV file to get the column names\n",
    "file_path = '../data/vehicles.csv'\n",
    "df_temp = pd.read_csv(file_path, nrows=0) # return only column names\n",
    "\n",
    "# Print out columns contained within csv altogether.\n",
    "print(fuel_econ.columns)\n",
    "#count rows and columns\n",
    "print(fuel_econ.shape)\n",
    "# 84 columns this will be fun\n",
    "\n",
    "# Find columns that contain 'base' in their names - Due to conflict with naming documentation and actual column names.\n",
    "# use col.lower to removed conflicts in locating the data that may be case sensitive.\n",
    "base_columns = [col for col in df_temp.columns if 'base' in col.lower()]\n",
    "\n",
    "print(\"Columns that include 'base' in their name:\")\n",
    "print(base_columns) # Shows column basemodel based on documentation, real name = baseModel\n",
    "\n",
    "# Determin columns that include fuel in their name.\n",
    "ftype_columns = [col for col in df_temp.columns if 'fuel' in col.lower()]\n",
    "\n",
    "print(\"Columns that include 'fuel' in their name:\")\n",
    "print(ftype_columns)\n"
   ]
  },
  {
   "cell_type": "code",
   "execution_count": 4,
   "metadata": {},
   "outputs": [
    {
     "name": "stdout",
     "output_type": "stream",
     "text": [
      "   barrels08  barrelsA08  charge120  charge240  city08  city08U  cityA08  cityA08U  cityCD  cityE  cityUF  co2  co2A  co2TailpipeAGpm  co2TailpipeGpm  comb08  comb08U  combA08  combA08U  combE  combinedCD  combinedUF  cylinders  displ             drive  engId eng_dscr  feScore  fuelCost08  fuelCostA08 fuelType         fuelType1  ghgScore  ghgScoreA  highway08  highway08U  highwayA08  highwayA08U  highwayCD  highwayE  highwayUF  hlv  hpv  id  lv2  lv4        make               model mpgData  phevBlended  pv2  pv4  range  rangeCity  rangeCityA  rangeHwy  rangeHwyA         trany    UCity  UCityA  UHighway  UHighwayA       VClass  year  youSaveSpend baseModel guzzler trans_dscr tCharger sCharger atvType fuelType2 rangeA evMotor mfrCode c240Dscr  charge240b c240bDscr                     createdOn                    modifiedOn startStop  phevCity  phevHwy  phevComb\n",
      "0  14.167143         0.0        0.0        0.0      19      0.0        0       0.0     0.0    0.0     0.0   -1    -1              0.0      423.190476      21      0.0        0       0.0    0.0         0.0         0.0        4.0    2.0  Rear-Wheel Drive   9011    (FFS)       -1        2200            0  Regular  Regular Gasoline        -1         -1         25         0.0           0          0.0        0.0       0.0        0.0    0    0   1    0    0  Alfa Romeo  Spider Veloce 2000       Y        False    0    0      0        0.0         0.0       0.0        0.0  Manual 5-spd  23.3333     0.0      35.0        0.0  Two Seaters  1985         -2750    Spider     NaN        NaN      NaN      NaN     NaN       NaN    NaN     NaN     NaN      NaN         0.0       NaN  Tue Jan 01 00:00:00 EST 2013  Tue Jan 01 00:00:00 EST 2013       NaN         0        0         0\n",
      "--------------------\n",
      "['Gasoline or natural gas' 'Gasoline or E85' 'Gasoline or propane'\n",
      " 'Premium or E85' 'Premium Gas or Electricity'\n",
      " 'Regular Gas and Electricity' 'Premium and Electricity'\n",
      " 'Regular Gas or Electricity']\n",
      "--------------------\n",
      "\n"
     ]
    }
   ],
   "source": [
    "print(fuel_econ.head(1))\n",
    "print('-'*20)\n",
    "\n",
    "# Filter the DataFrame\n",
    "barrels_filtered_df = fuel_econ[(fuel_econ['barrels08'].notna()) & \n",
    "                        (fuel_econ['barrels08'] != 0.0) & \n",
    "                        (fuel_econ['barrelsA08'].notna()) & \n",
    "                        (fuel_econ['barrelsA08'] != 0.0)]\n",
    "\n",
    "# Select the first row that meets the criteria\n",
    "selected_row = barrels_filtered_df.iloc[0]\n",
    "\n",
    "selected_row_fuelTypes = barrels_filtered_df['fuelType'].unique()\n",
    "\n",
    "print(selected_row_fuelTypes)  # see the fuel types that are associated with column 'barrelsA08' that contain values above 0\n",
    "print('-'*20)\n",
    "print()"
   ]
  },
  {
   "cell_type": "markdown",
   "metadata": {},
   "source": [
    "### Get Overview of data"
   ]
  },
  {
   "cell_type": "code",
   "execution_count": 5,
   "metadata": {},
   "outputs": [],
   "source": [
    "# Cleaned up method\n",
    "\n",
    "spacer = ['-'*20, '-'*2]\n",
    "titleList = ['Data Discovery', 'Annual fuel consumption', 'Charging time', 'Mileage/Type', 'Carbon Emissions per mile', 'MPG/MPKwh']\n",
    "descript_dict = {\n",
    "    'barrels': 'annual petroleum consumption for fuelType1 and fuelType2 (1 barrel = 42 gallons)',\n",
    "    'barrels08': 'annual petroleum consumption for fuelType1',\n",
    "    'barrelsA08': 'annual petroleum consumption for fuelType2',\n",
    "    'charge120': 'time to charge at 120V (hours)',\n",
    "    'charge240': 'time to charge at 240V (hours)',\n",
    "    'city08': 'city MPG for fuelType1',\n",
    "    'city08U': 'unrounded city MPG for fuelType1',\n",
    "    'cityA08': 'city MPG for fuelType2',\n",
    "    'cityA08U': 'unrounded city MPG for fuelType2',\n",
    "    'cityCD': 'city gasoline consumption in charge depleting mode (gallons/100 miles)',\n",
    "    'cityE': 'city electricity consumption (kw-hrs/100 miles)',\n",
    "    'cityUF': 'EPA city utility factor for PHEV',\n",
    "    'co2': 'tailpipe CO2 for fuelType1 (grams/mile)',\n",
    "    'co2A': 'tailpipe CO2 for fuelType2 (grams/mile)',\n",
    "    'co2TailpipeGpm': 'tailpipe CO2 for fuelType1 (grams/mile)',\n",
    "    'co2TailpipeAGpm': 'tailpipe CO2 for fuelType2 (grams/mile)',\n",
    "    'comb08': 'combined MPG for fuelType1',\n",
    "    'comb08U': 'unrounded combined MPG for fuelType1',\n",
    "    'combA08': 'combined MPG for fuelType2',\n",
    "    'combA08U': 'unrounded combined MPG for fuelType2',\n",
    "    'combE': 'combined electricity consumption (kw-hrs/100 miles)',\n",
    "    'combinedCD': 'combined gasoline consumption in charge depleting mode (gallons/100 miles)',\n",
    "    'combinedUF': 'EPA combined utility factor for PHEV',\n",
    "    'cylinders': 'engine cylinders',\n",
    "    'displ': 'engine displacement (liters)',\n",
    "    'drive': 'drive axle type',\n",
    "    'engId': 'EPA model type index',\n",
    "    'eng_dscr': 'engine descriptor',\n",
    "    'feScore': 'EPA Fuel Economy Score (-1 = Not available)',\n",
    "    'fuelCost08': 'annual fuel cost for fuelType1 ($)',\n",
    "    'fuelCostA08': 'annual fuel cost for fuelType2 ($)',\n",
    "    'fuelType': 'fuel type (fuelType1 and fuelType2, if applicable)',\n",
    "    'fuelType1': 'primary fuel type for single or conventional fuel vehicles',\n",
    "    'fuelType2': 'alternative fuel type for dual fuel vehicles',\n",
    "    'ghgScore': 'EPA GHG score for fuelType1 (-1 = Not available)',\n",
    "    'ghgScoreA': 'EPA GHG score for fuelType2 (-1 = Not available)',\n",
    "    'guzzler': 'subject to gas guzzler tax (G or T)',\n",
    "    'trans_dscr': 'transmission descriptor',\n",
    "    'highway08': 'highway MPG for fuelType1',\n",
    "    'highway08U': 'unrounded highway MPG for fuelType1',\n",
    "    'highwayA08': 'highway MPG for fuelType2',\n",
    "    'highwayA08U': 'unrounded highway MPG for fuelType2',\n",
    "    'highwayCD': 'highway gasoline consumption in charge depleting mode (gallons/100 miles)',\n",
    "    'highwayE': 'highway electricity consumption (kw-hrs/100 miles)',\n",
    "    'highwayUF': 'EPA highway utility factor for PHEV',\n",
    "    'hlv': 'hatchback luggage volume (cubic feet)',\n",
    "    'hpv': 'hatchback passenger volume (cubic feet)',\n",
    "    'id': 'vehicle record ID',\n",
    "    'lv2': '2-door luggage volume (cubic feet)',\n",
    "    'lv4': '4-door luggage volume (cubic feet)',\n",
    "    'make': 'manufacturer (division)',\n",
    "    'mfrCode': '3-character manufacturer code',\n",
    "    'model': 'model name (carline)',\n",
    "    'mpgData': 'has My MPG data',\n",
    "    'phevBlended': 'PHEV operates on a blend of gasoline and electricity in charge depleting mode',\n",
    "    'pv2': '2-door passenger volume (cubic feet)',\n",
    "    'pv4': '4-door passenger volume (cubic feet)',\n",
    "    'range': 'estimated range for fuelType1',\n",
    "    'rangeCity': 'estimated city range for fuelType1',\n",
    "    'rangeCityA': 'EPA city range for fuelType2',\n",
    "    'rangeHwy': 'estimated highway range for fuelType1',\n",
    "    'rangeHwyA': 'EPA highway range for fuelType2',\n",
    "    'trany': 'transmission',\n",
    "    'UCity': 'unadjusted city MPG for fuelType1',\n",
    "    'UCityA': 'unadjusted city MPG for fuelType2',\n",
    "    'UHighway': 'unadjusted highway MPG for fuelType1',\n",
    "    'UHighwayA': 'unadjusted highway MPG for fuelType2',\n",
    "    'VClass': 'EPA vehicle size class',\n",
    "    'year': 'model year',\n",
    "    'youSaveSpend': 'savings/spending over 5 years compared to an average car',\n",
    "    'sCharger': 'supercharged (S)',\n",
    "    'tCharger': 'turbocharged (T)',\n",
    "    'c240Dscr': 'electric vehicle charger description',\n",
    "    'charge240b': 'time to charge an electric vehicle at 240V (hours)',\n",
    "    'c240bDscr': 'electric vehicle alternate charger description',\n",
    "    'createdOn': 'vehicle record creation date',\n",
    "    'modifiedOn': 'last modified date of the vehicle record',\n",
    "    'startStop': 'vehicle has stop-start technology',\n",
    "    'phevCity': 'EPA composite gasoline-electricity city MPGe for plug-in hybrid vehicles',\n",
    "    'phevHwy': 'EPA composite gasoline-electricity highway MPGe for plug-in hybrid vehicles',\n",
    "    'phevComb': 'EPA composite gasoline-electricity combined city-highway MPGe for plug-in hybrid vehicles',\n",
    "    'baseModel': 'base model name',\n",
    "    'atvType': 'type of alternative fuel or advanced technology vehicle',\n",
    "    'rangeA': 'EPA range for fuelType2',\n",
    "    'evMotor': 'electric motor (kw-hrs)'\n",
    "}\n",
    "\n",
    "\n",
    "# get names and unique values for each column in the column list\n",
    "with open('../Documents/Column_Descript_Unique_Values.txt', 'w') as file:\n",
    "    for col in fuel_econ:\n",
    "        unique_values = fuel_econ[col].unique()\n",
    "        description = descript_dict.get(col, \"No description available\")\n",
    "        file.write(f'{col}:  {description}\\n')\n",
    "        file.write(f\"{spacer[1]}\\n\")\n",
    "        for value in unique_values:\n",
    "            file.write(f\"{value}, \")\n",
    "        file.write(\"\\n\" + \"-\"*10 + \"\\n\")\n",
    "\n",
    "\n",
    "\n",
    "\n",
    "\n"
   ]
  },
  {
   "cell_type": "code",
   "execution_count": 24,
   "metadata": {},
   "outputs": [
    {
     "name": "stdout",
     "output_type": "stream",
     "text": [
      "(48351, 38) Before\n",
      "(45042, 38) After\n",
      "['Regular' 'Premium' 'Electricity' 'Midgrade']\n",
      "['Regular Gasoline' 'Premium Gasoline' 'Electricity' 'Midgrade Gasoline']\n",
      "['Regular Gasoline' 'Premium Gasoline' 'Electricity' 'Midgrade Gasoline']\n",
      "[nan 'Hybrid' 'EV']\n",
      "      barrels08  charge240  cityE  co2  co2TailpipeGpm  comb08  combE  cylinders  displ              drive  engId eng_dscr  feScore  fuelCost08 fuelType         fuelType1  ghgScore     id    make    model mpgData  range  rangeCity  rangeHwy                             trany        VClass  year  youSaveSpend baseModel trans_dscr tCharger sCharger atvType fuelType2 evMotor mfrCode c240Dscr  charge240b\n",
      "6230   5.613396        0.0    0.0   -1      167.679245      53    0.0        3.0    1.0  Front-Wheel Drive      0      NaN       -1         900  Regular  Regular Gasoline        -1  15606   Honda  Insight       Y      0        0.0       0.0                      Manual 5-spd   Two Seaters  2000          3750   Insight        SIL      NaN      NaN  Hybrid       NaN     NaN     NaN      NaN         0.0\n",
      "7162   6.330000        0.0    0.0   -1      189.085106      47    0.0        3.0    1.0  Front-Wheel Drive      0      NaN       -1        1000  Regular  Regular Gasoline        -1  16445   Honda  Insight       Y      0        0.0       0.0  Automatic (variable gear ratios)   Two Seaters  2001          3250   Insight        NaN      NaN      NaN  Hybrid       NaN     NaN     NaN      NaN         0.0\n",
      "7163   6.330000        0.0    0.0   -1      189.085106      47    0.0        3.0    1.0  Front-Wheel Drive      0      NaN       -1        1000  Regular  Regular Gasoline        -1  16446   Honda  Insight       N      0        0.0       0.0  Automatic (variable gear ratios)   Two Seaters  2001          3250   Insight        NaN      NaN      NaN  Hybrid       NaN     NaN     NaN      NaN         0.0\n",
      "7164   5.613396        0.0    0.0   -1      167.679245      53    0.0        3.0    1.0  Front-Wheel Drive      0      NaN       -1         900  Regular  Regular Gasoline        -1  16447   Honda  Insight       Y      0        0.0       0.0                      Manual 5-spd   Two Seaters  2001          3750   Insight        SIL      NaN      NaN  Hybrid       NaN     NaN     NaN      NaN         0.0\n",
      "7451   7.256341        0.0    0.0   -1      216.756098      41    0.0        4.0    1.5  Front-Wheel Drive      0      NaN       -1        1150  Regular  Regular Gasoline        -1  16705  Toyota    Prius       Y      0        0.0       0.0  Automatic (variable gear ratios)  Compact Cars  2001          2500     Prius        NaN      NaN      NaN  Hybrid       NaN     NaN     NaN      NaN         0.0\n"
     ]
    },
    {
     "name": "stderr",
     "output_type": "stream",
     "text": [
      "C:\\Users\\samps\\AppData\\Local\\Temp\\ipykernel_32056\\959367335.py:27: DtypeWarning: Columns (74,75) have mixed types. Specify dtype option on import or set low_memory=False.\n",
      "  df = pd.read_csv('../data/vehicles.csv', usecols=columns)\n"
     ]
    },
    {
     "data": {
      "text/plain": [
       "\"\\nunique_ev_combinations = df[['VClass', 'fuelType', 'fuelType1', 'combE']].drop_duplicates(subset=['VClass','fuelType' ,'fuelType1'])  # check diff fuel types for vehicles that are electric/hybrid unique combos using subset\\nprint(unique_ev_combinations.sort_values(by='VClass')) # show them and order them by VClass\\nunique_ev_combinations = df[['VClass', 'fuelType', 'fuelType1', 'combE']]\\n\\n\\nprint(unique_ev_combinations.shape)\\nprint(41*.13/100) # approx 41Kwh per 100 miles, and approx 13 cents per Kwh, multiply Kwh by cost per Kwh to get total for 100 miles then divide to get per mile.  .0533 cents per mile.\\n# combE returns a number of Kwh per 100 miles.\\nprint(2.50/22)  # guessing fuel prices at 2.50/gallon and approx 22 miles per gallon equals .1136 cents per mile\\nprint(unique_ev_combinations['VClass'].unique())  # See the diff unique Vehicle classes that I can compare that use electricity or gas/electric\\n\""
      ]
     },
     "execution_count": 24,
     "metadata": {},
     "output_type": "execute_result"
    }
   ],
   "source": [
    "# Define the list of columns you need\n",
    "columns = [\n",
    "    'barrels08', 'charge240',\n",
    "    'cityE', 'co2',\n",
    "    'co2TailpipeGpm', 'comb08',\n",
    "    'combE','cylinders',\n",
    "    'displ', 'drive', \n",
    "    'engId', 'eng_dscr', \n",
    "    'feScore', 'fuelCost08',\n",
    "    'fuelType', 'fuelType1', \n",
    "    'ghgScore', 'id',\n",
    "    'make', 'model', \n",
    "    'mpgData', 'range',\n",
    "    'rangeCity', 'rangeHwy',\n",
    "    'trany', 'VClass', \n",
    "    'year', 'youSaveSpend', \n",
    "    'baseModel', 'trans_dscr', \n",
    "    'tCharger', 'sCharger', \n",
    "    'atvType', 'evMotor', \n",
    "    'mfrCode', 'c240Dscr', \n",
    "    'charge240b', 'fuelType2'\n",
    "    ] # 37 total\n",
    "\n",
    "# filter out all fuel types other than regu\n",
    "\n",
    "# Read the CSV file, selecting only the specified columns\n",
    "df = pd.read_csv('../data/vehicles.csv', usecols=columns)\n",
    "\n",
    "# print(df['fuelType'].unique())\n",
    "print(f'{df.shape} Before')\n",
    "remove = ['Diesel', 'CNG', 'Gasoline or natural gas',\n",
    " 'Gasoline or E85', 'Gasoline or propane' 'Premium or E85',\n",
    " 'Premium Gas or Electricity', 'Regular Gas and Electricity',\n",
    " 'Premium and Electricity', 'Regular Gas or Electricity', 'Hydrogen', 'Gasoline or propane', 'Premium or E85']\n",
    "\n",
    "keep_rows = df[~df['fuelType'].isin(remove)]\n",
    "\n",
    "print(f'{keep_rows.shape} After')\n",
    "\n",
    "print(keep_rows['fuelType'].unique())\n",
    "print(keep_rows['fuelType1'].unique())\n",
    "print(keep_rows['fuelType1'].unique())\n",
    "print(keep_rows['atvType'].unique())\n",
    "\n",
    "print(keep_rows[keep_rows['atvType'] == 'Hybrid'].head())\n",
    "\n",
    "\n",
    "'''\n",
    "unique_ev_combinations = df[['VClass', 'fuelType', 'fuelType1', 'combE']].drop_duplicates(subset=['VClass','fuelType' ,'fuelType1'])  # check diff fuel types for vehicles that are electric/hybrid unique combos using subset\n",
    "print(unique_ev_combinations.sort_values(by='VClass')) # show them and order them by VClass\n",
    "unique_ev_combinations = df[['VClass', 'fuelType', 'fuelType1', 'combE']]\n",
    "\n",
    "\n",
    "print(unique_ev_combinations.shape)\n",
    "print(41*.13/100) # approx 41Kwh per 100 miles, and approx 13 cents per Kwh, multiply Kwh by cost per Kwh to get total for 100 miles then divide to get per mile.  .0533 cents per mile.\n",
    "# combE returns a number of Kwh per 100 miles.\n",
    "print(2.50/22)  # guessing fuel prices at 2.50/gallon and approx 22 miles per gallon equals .1136 cents per mile\n",
    "print(unique_ev_combinations['VClass'].unique())  # See the diff unique Vehicle classes that I can compare that use electricity or gas/electric\n",
    "'''\n"
   ]
  },
  {
   "cell_type": "code",
   "execution_count": null,
   "metadata": {},
   "outputs": [],
   "source": []
  },
  {
   "cell_type": "code",
   "execution_count": null,
   "metadata": {},
   "outputs": [],
   "source": [
    "\n",
    "\n",
    "\n"
   ]
  }
 ],
 "metadata": {
  "kernelspec": {
   "display_name": "FE",
   "language": "python",
   "name": "python3"
  },
  "language_info": {
   "codemirror_mode": {
    "name": "ipython",
    "version": 3
   },
   "file_extension": ".py",
   "mimetype": "text/x-python",
   "name": "python",
   "nbconvert_exporter": "python",
   "pygments_lexer": "ipython3",
   "version": "3.13.0"
  }
 },
 "nbformat": 4,
 "nbformat_minor": 2
}
