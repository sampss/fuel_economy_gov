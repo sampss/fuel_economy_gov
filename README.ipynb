{
 "cells": [
  {
   "cell_type": "markdown",
   "metadata": {},
   "source": [
    "# Project Overview\n",
    "\n",
    "- **Objective 1**: The purpose of this data is to compare how fuel efficiency has improved over time.\n",
    "- **Objective 2**: To determine the efficiency value of moving to electric vehicles.\n",
    "\n",
    "- **Data Source 1**: [Fuel Economy Data](https://www.fueleconomy.gov/feg/download.shtml)\n",
    "\n",
    "# Data Collection and Loading\n",
    "\n",
    "- **Initial data**: Data Source 1 was collected in csv format.\n"
   ]
  },
  {
   "cell_type": "markdown",
   "metadata": {},
   "source": [
    "# Setup\n",
    " - Fork git repository:  https://github.com/sampss/fuel_economy_gov.git\n",
    " - Clone the repository to you local machine.\n",
    " - Navigate to the repository via terminal of cmd.\n",
    " - Create a virtual python environment for the repository.  python -m venv FE\n",
    " - Activate the virtual environment. FE/scripts/activate\n",
    " - Install the req.txt to install the necessary packages by running pip install req.txt\n",
    "\n",
    "\n",
    "\n",
    "\n"
   ]
  }
 ],
 "metadata": {
  "language_info": {
   "name": "python"
  }
 },
 "nbformat": 4,
 "nbformat_minor": 2
}
