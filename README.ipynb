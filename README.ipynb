{
 "cells": [
  {
   "cell_type": "markdown",
   "metadata": {},
   "source": [
    "<center><h1>Fuel Info</h1></center>\n",
    "\n",
    "\n",
    "## Project Overview\n",
    "\n",
    "- **Objective 1**: The purpose of this data is to compare how fuel efficiency and carbon emmissions have evolved over time.  May be difficult to track as emissions may have varied with quality fuel input.\n",
    "- **Objective 2**: To determine the possible benefits of moving to electric vehicles.\n",
    "- **Objective 3**: Determine the produced to travel 20 miles round trip to work, this includes co2 produced to create the electricity with coal to travel to work.\n",
    "\n",
    "\n",
    "# Data Collection and Loading\n",
    "\n",
    "- **Initial data**: Data Source 1 was collected in csv format. I wrote it to an SQLite3 db and read the initial columns I wanted from there.\n",
    "-  **Data Source 1**: [Fuel Economy Data](https://www.fueleconomy.gov/feg/download.shtml)\n",
    "-  **Data Source 2**: [Sales Data](https://www.kaggle.com/code/lucasbellen/cars-sale-eda?select=car_prices.csv)\n",
    "-  **Generated Data**: Miles to work calculated 20 mile round trip.   2.50 per gallon,   .13 per kWh.  Current market costs.\n",
    "-  **Generated Data 2**:  CO2 produced to drive round trip to work. Gasoline is using the co2 data provided, coal is calculated as follows, kWh generated * 2.2lbs Co2\n",
    "\n",
    "**Note** A coal power plant typically produces about 2.2 pounds (approximately 1 kilogram) of CO2 per kilowatt-hour (kWh) of electricity generated. This makes coal one of the highest sources of CO2 emissions among energy generation methods.\n"
   ]
  },
  {
   "cell_type": "markdown",
   "metadata": {},
   "source": [
    "\n",
    "## Project Overview\n",
    "\n",
    "- **Objective 1**: The purpose of this data is to compare how fuel efficiency and carbon emmissions have evolved over time.  May be difficult to track as emissions may have varied with quality fuel input.\n",
    "- **Objective 2**: To determine the possible benefits of moving to electric vehicles.\n",
    "- **Objective 3**: Determine the produced to travel 20 miles round trip to work, this includes co2 produced to create the electricity with coal to travel to work.\n",
    "\n",
    "\n",
    "# Data Collection and Loading\n",
    "\n",
    "- **Initial data**: Data Source 1 was collected in csv format. \n",
    "-  **Data Source 1**: [Fuel Economy Data](https://www.fueleconomy.gov/feg/download.shtml)\n",
    "-  **Data Source 2**: [Sales Data](https://www.kaggle.com/code/lucasbellen/cars-sale-eda?select=car_prices.csv)\n",
    "-  **Generated Data**: Miles to work calculated 20 mile round trip.   2.50 per gallon,   .13 per kWh.  Current market costs.\n",
    "-  **Generated Data 2**:  CO2 produced to drive round trip to work. Gasoline is using the co2 data provided, coal is calculated as follows, kWh generated * 2.2lbs Co2\n",
    "\n",
    "**Note** A coal power plant typically produces about 2.2 pounds (approximately 1 kilogram) of CO2 per kilowatt-hour (kWh) of electricity generated. This makes coal one of the highest sources of CO2 emissions among energy generation methods.\n"
   ]
  },
  {
   "cell_type": "markdown",
   "metadata": {},
   "source": [
    "# Setup\n",
    " - Fork git repository:  https://github.com/sampss/fuel_economy_gov.git\n",
    " - Clone the repository to you local machine.\n",
    " - Navigate to the repository via terminal of cmd.\n",
    " - Create a virtual python environment for the repository.  python -m venv FE\n",
    " - Activate the virtual environment. FE/scripts/activate\n",
    " - Install the required_packages.txt to install the necessary packages by running pip install required_packages.txt\n",
    "\n",
    "\n",
    "\n",
    "\n"
   ]
  },
  {
   "cell_type": "markdown",
   "metadata": {},
   "source": [
    "### Project Overview\n",
    "- To look at differing Fuel stats which will include fuel efficiency, emissions by car size, over time. To compare gasoline, hybrid and electric vehicles on different stats. \n",
    "\n",
    "### Fuel usage over time and what modern trends show. \n",
    "\n",
    "\n",
    "### Goals and Objectives:\n",
    "\n",
    "Goal 1: To look at gasoline economy over the years to see how it may have improved \n",
    "Goal 2: To to look over differing fuel types and to determine the value that could possibly be in making a move to electric vehicles for the average person.\n",
    "Goal 3: Evaluate common cost of operation and compare Electric, Gasoline and Hybrid Vehicles.\n",
    "Goal 4: Evaluate the Co2 production of common vehicle sizes and fuel types.\n",
    "\n",
    "### Features:\n",
    "\n",
    "Outline the main features and functionalities of your project as referenced in your Project Requirements document. Break them down into core features and stretch goals.\n",
    "\n",
    "\n",
    "### Technologies:\n",
    "\n",
    "- Python\n",
    "- Pandas\n",
    "- SQLite3\n",
    "- matplotlib\n",
    "- seaborn\n"
   ]
  },
  {
   "cell_type": "markdown",
   "metadata": {},
   "source": [
    "## Data Cleanup Decisions\n",
    "- co2: Removed co2TailpipGPM as after reveiwing the data it had the same data as co2\n",
    "- fuelType and fuelType1:  Contained the same information for the single fuel vehicles.  Removed fuelType changed name of fuelType1 to fuel_type\n",
    "- Removed additional unnecessary columns: 'mfrCode', 'evMotor', 'sCharger', 'tCharger', 'trans_dscr', 'rangeHwy', 'rangeCity', 'mpgData', 'eng_dscr', 'engId', 'cityE', 'charge240b'\n",
    "- Renamed c240Dscr to charger_descript_240, charge240 to charge_hours_240, co2 to co2, fuelType1 to fuel_type, comb08 to comb_MPG_MPGe, fuelCost08 to est_ann_fuel_cost, combE to comb_kWh_100miles, feScore to epa_FuelEcon_score, ghgScore to greenhouse_Gas_Score, barrels08 to est_petro_cons, youSaveSpend to 5yr_SaveSpend, baseModel to base_Model, atvType to base_fuel_type\n",
    "- Cleaned up second data set by creating a column key that allows me to merge with existing dataset. Needed to generate the key in both tables and left merge with existing data.\n",
    "- before merging I needed to average the sales that had the same key in the second dataset and aggregate on the key, creating a column that counted the rows merged as number of sales.\n",
    "- I then created two additional data columns base on standard current prices of fuel and electricity - dollars_to_work, co2_to_work\n",
    "- Given how small the values would be for 1 mile I calculated dollars to work on a 20 mile round trip.\n",
    "- I chose to use the same standard to calculate Co2 to work - shows Co2 produced using Coal to charge enouch to travel the 20 miles."
   ]
  },
  {
   "cell_type": "markdown",
   "metadata": {},
   "source": [
    "# Final Results"
   ]
  },
  {
   "cell_type": "markdown",
   "metadata": {},
   "source": [
    "- Created a graph showing \"Fuel Efficiency Trends for Gasoline Vehicles\" over the years.\n",
    "\n",
    "    - As a quick reference, it looks like on average fuel efficiency has improved over time.\n",
    "    - Only two vehicle classed were able to get over 20 MPG in the 80s, now several vehicle classes have broken 20 MPG\n",
    "\n",
    "- Created a bar chart comparing how much it costs to drive round trip estimated at current energy prices and 20 miles to work and home.  Based on Vehicle Class.\n",
    "    - It is significantly cheaper to drive an electric vehicle to work\n",
    "    - Gasoline is the most expensive fuel to use.\n",
    "    - Using a hybrid reduces your gasoline cost by approximately 1/3.\n",
    "    - Electric will cost you 1/3 as much to drive to work and home on average and is typically under 1 dollar.\n",
    "\n",
    "- Created a bar chart to compare graph we are comparing how clean it is to drive an electric vehicle vs. gasolin and hybrids.\n",
    "    - The electricity for this chart is assumed to be produced soley by coal.\n",
    "    - After looking over the data, IF the electricity used to charge an EV was produced with ONLY coal, then the EV would only be sleightly cleaner to drive.\n",
    "    - With the exception of a few EVs on average it appears that EVs produce 1-3 lbs less Co2 to travel 20 miles than a gasoline engine would produce traveling the same distance.\n",
    "    - There are three odd cases where the EVs are producing more Co2. \n",
    "    - This is ignoring the fact that much of the electricity locally is produced by hydroelectricity which would reduce the over all Co2 rating for EVs\n",
    "\n",
    "- Created a final bar chart comparing Sales Values Between EV, Gasoline and Hybrid Cars.\n",
    "    - I had limited sales data.\n",
    "    - More complete Sales data would have been nice.\n",
    "    - Given the limited sales data available it shows that EVs are a small portion of the market.\n",
    "    - Hybrids seem to be doing well, although they on average run more expensive than Gasoline Engines.\n",
    "    - The cost of EVs is highly dependant on the Vehicle Class.  Typically comparable to Gasoline however they can be extremely expensive.\n",
    "    - Gasoline and Hybrids still hold a larger share of the market compared to EVs."
   ]
  }
 ],
 "metadata": {
  "kernelspec": {
   "display_name": "FE",
   "language": "python",
   "name": "python3"
  },
  "language_info": {
   "name": "python",
   "version": "3.13.0"
  }
 },
 "nbformat": 4,
 "nbformat_minor": 2
}
