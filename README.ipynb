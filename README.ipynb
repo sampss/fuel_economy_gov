{
 "cells": [
  {
   "cell_type": "markdown",
   "metadata": {},
   "source": [
    "<center><h1>Fuel Info</h1></center>\n",
    "\n",
    "\n",
    "## Project Overview\n",
    "\n",
    "- **Objective 1**: The purpose of this data is to compare how fuel efficiency and carbon emmissions have evolved over time.  May be difficult to track as emissions may have varied with quality fuel input.\n",
    "- **Objective 2**: To determine the possible benefits of moving to electric vehicles.\n",
    "\n",
    "\n",
    "# Data Collection and Loading\n",
    "\n",
    "- **Initial data**: Data Source 1 was collected in csv format. \n",
    "-  **Data Source 1**: [Fuel Economy Data](https://www.fueleconomy.gov/feg/download.shtml)\n",
    "-  **Data Source 2**: [Sales Data](https://www.kaggle.com/code/lucasbellen/cars-sale-eda?select=car_prices.csv)\n",
    "-  **Generated Data**: Miles to work calculated 20 mile round trip. 2.50 per gallon, .13 per kWh.  current market costs.\n"
   ]
  },
  {
   "cell_type": "markdown",
   "metadata": {},
   "source": [
    "# Setup\n",
    " - Fork git repository:  https://github.com/sampss/fuel_economy_gov.git\n",
    " - Clone the repository to you local machine.\n",
    " - Navigate to the repository via terminal of cmd.\n",
    " - Create a virtual python environment for the repository.  python -m venv FE\n",
    " - Activate the virtual environment. FE/scripts/activate\n",
    " - Install the req.txt to install the necessary packages by running pip install req.txt\n",
    "\n",
    "\n",
    "\n",
    "\n"
   ]
  },
  {
   "cell_type": "markdown",
   "metadata": {},
   "source": [
    "### brief overview project - purpose, scope, and objectives.\n",
    "- To look at differing Fuel stats which will include fuel efficiency, emissions by car size, over time. To compare gasoline, hybrid and electric vehicles on different stats. \n",
    "\n",
    "### Fuel usage over time and what modern trends show.  \n",
    "Describe the problem your project aims to address or the opportunity it seeks to leverage.\n",
    "- To take a comprehensive look over differing fuel types and to determine the value that could possibly be in making a move to electric vehicles for the average person.\n",
    "\n",
    "### Goals and Objectives:\n",
    "\n",
    "Goal 1: State your primary goal for the project.\n",
    "Goal 2: State any additional goals or objectives.\n",
    "\n",
    "- Primary goal: Determine the emissions/fuel efficiency improvements over time.\n",
    "- How do they compare to electric vehicles.\n",
    "\n",
    "### Features:\n",
    "\n",
    "Outline the main features and functionalities of your project as referenced in your Project Requirements document. Break them down into core features and stretch goals.\n",
    "\n",
    "\n",
    "### Technologies:\n",
    "\n",
    "List the technologies, frameworks, and tools you plan to use for the development of your project.\n",
    "\n",
    "\n",
    "\n",
    "### Timeline:\n",
    "\n",
    "Outline the project timeline, including key milestones and deadlines.\n",
    "\n",
    "\n",
    "\n",
    "### Risks and Mitigation Strategies:\n",
    "\n",
    "List potential risks or challenges that may arise during the project and strategies to mitigate them.\n",
    "\n",
    "\n",
    "\n",
    "### Test/Evaluation Plan:\n",
    "\n",
    "Describe how you will evaluate the success of your project. This may include testing methods, user feedback, or performance metrics.\n",
    "\n",
    "\n",
    "\n"
   ]
  },
  {
   "cell_type": "markdown",
   "metadata": {},
   "source": [
    "## Data Cleanup Decisions\n",
    "- co2: Removed co2TailpipGPM as after reveiwing the data it had the same data as co2\n",
    "- fuelType and fuelType1:  Contained the same information for the single fuel vehicles.  Removed fuelType changed name of fuelType1 to fuel_type\n",
    "- Removed additional unnecessary columns: 'mfrCode', 'evMotor', 'sCharger', 'tCharger', 'trans_dscr', 'rangeHwy', 'rangeCity', 'mpgData', 'eng_dscr', 'engId', 'cityE', 'charge240b'\n",
    "- Renamed c240Dscr to charger_descript_240, charge240 to charge_hours_240, co2 to co2, fuelType1 to fuel_type, comb08 to comb_MPG_MPGe, fuelCost08 to est_ann_fuel_cost, combE to comb_kWh_100miles, feScore to epa_FuelEcon_score, ghgScore to greenhouse_Gas_Score, barrels08 to est_petro_cons, youSaveSpend to 5yr_SaveSpend, baseModel to base_Model, atvType to base_fuel_type"
   ]
  },
  {
   "cell_type": "markdown",
   "metadata": {},
   "source": [
    "# MPGe Info\n",
    "\n",
    "**MPGe (Miles Per Gallon equivalent)** is a measure used to compare the energy consumption of electric and alternative fuel vehicles with that of traditional gasoline vehicles. The formula for calculating MPGe is based on the energy content of a gallon of gasoline, which is approximately 33.7 kilowatt-hours (kWh) of electricity.\n",
    "\n",
    "### How MPGe is Calculated:\n",
    "- **Energy Content Equivalency:** The U.S. Environmental Protection Agency (EPA) established that 33.7 kWh of electricity is equivalent to one gallon of gasoline.\n",
    "- **Vehicle Efficiency:** To determine the MPGe of an electric vehicle, you need to know how far the vehicle can travel on 33.7 kWh of electricity.\n",
    "\n",
    "### Formula:\n",
    "\n",
    "- Miles Driven / Energy Used * 33.7 = MPGe\n",
    "\n",
    "\\[ \\text{MPGe} = \\frac{\\text{Miles Driven}}{\\text{Energy Used (in kWh)}} \\times 33.7 \\]\n",
    "\n",
    "\n",
    "\n",
    "### Example:\n",
    "If an electric vehicle can travel 100 miles on 33.7 kWh of electricity, its MPGe would be:\n",
    "\n",
    "\n",
    "\\[ \\text{MPGe} = \\frac{100 \\text{ miles}}{33.7 \\text{ kWh}} \\times 33.7 = 100 \\text{ MPGe} \\]\n",
    "\n",
    "\n"
   ]
  }
 ],
 "metadata": {
  "kernelspec": {
   "display_name": "FE",
   "language": "python",
   "name": "python3"
  },
  "language_info": {
   "name": "python",
   "version": "3.13.0"
  }
 },
 "nbformat": 4,
 "nbformat_minor": 2
}
