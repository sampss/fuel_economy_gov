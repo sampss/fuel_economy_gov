{
 "cells": [
  {
   "cell_type": "markdown",
   "metadata": {},
   "source": [
    "<center><h1>Fuel Info</h1></center>\n",
    "\n",
    "\n",
    "## Project Overview\n",
    "\n",
    "- **Objective 1**: The purpose of this data is to compare how fuel efficiency has improved over time.\n",
    "- **Objective 2**: To determine the efficiency value of moving to electric vehicles.\n",
    "\n",
    "- **Data Source 1**: [Fuel Economy Data](https://www.fueleconomy.gov/feg/download.shtml)\n",
    "\n",
    "# Data Collection and Loading\n",
    "\n",
    "- **Initial data**: Data Source 1 was collected in csv format.\n"
   ]
  },
  {
   "cell_type": "markdown",
   "metadata": {},
   "source": [
    "# Setup\n",
    " - Fork git repository:  https://github.com/sampss/fuel_economy_gov.git\n",
    " - Clone the repository to you local machine.\n",
    " - Navigate to the repository via terminal of cmd.\n",
    " - Create a virtual python environment for the repository.  python -m venv FE\n",
    " - Activate the virtual environment. FE/scripts/activate\n",
    " - Install the req.txt to install the necessary packages by running pip install req.txt\n",
    "\n",
    "\n",
    "\n",
    "\n"
   ]
  },
  {
   "cell_type": "markdown",
   "metadata": {},
   "source": [
    "Provide a brief overview of your project, highlighting its purpose, scope, and objectives.\n",
    "- To look at differing Fuel stats which will include fuel efficiency, emissions by car size, over time. To compare gasoline, hybrid and electric vehicles on different stats. \n",
    "\n",
    "Describe the problem your project aims to address or the opportunity it seeks to leverage.\n",
    "- To take a comprehensive look over differing fuel types and to determine the value that could possibly be in making a move to electric vehicles for the average person.\n",
    "\n",
    "Goals and Objectives:\n",
    "\n",
    "Goal 1: State your primary goal for the project.\n",
    "Goal 2: State any additional goals or objectives.\n",
    "\n",
    "- Primary goal: Determine the emissions/fuel efficiency improvements over time and how they compare to electric vehicles.\n",
    "\n",
    "Features:\n",
    "\n",
    "Outline the main features and functionalities of your project as referenced in your Project Requirements document. Break them down into core features and stretch goals.\n",
    "\n",
    "\n",
    "Technologies:\n",
    "\n",
    "List the technologies, frameworks, and tools you plan to use for the development of your project.\n",
    "\n",
    "\n",
    "\n",
    "Timeline:\n",
    "\n",
    "Outline the project timeline, including key milestones and deadlines.\n",
    "\n",
    "\n",
    "\n",
    "Risks and Mitigation Strategies:\n",
    "\n",
    "List potential risks or challenges that may arise during the project and strategies to mitigate them.\n",
    "\n",
    "\n",
    "\n",
    "Test/Evaluation Plan:\n",
    "\n",
    "Describe how you will evaluate the success of your project. This may include testing methods, user feedback, or performance metrics.\n",
    "\n",
    "\n",
    "\n"
   ]
  }
 ],
 "metadata": {
  "kernelspec": {
   "display_name": "FE",
   "language": "python",
   "name": "python3"
  },
  "language_info": {
   "name": "python",
   "version": "3.13.0"
  }
 },
 "nbformat": 4,
 "nbformat_minor": 2
}
